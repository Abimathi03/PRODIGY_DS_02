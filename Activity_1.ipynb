{
  "cells": [
    {
      "cell_type": "markdown",
      "metadata": {
        "id": "view-in-github",
        "colab_type": "text"
      },
      "source": [
        "<a href=\"https://colab.research.google.com/github/Abimathi03/PRODIGY_DS_02/blob/main/Activity_1.ipynb\" target=\"_parent\"><img src=\"https://colab.research.google.com/assets/colab-badge.svg\" alt=\"Open In Colab\"/></a>"
      ]
    },
    {
      "cell_type": "code",
      "source": [
        "import pandas as pd\n",
        "df = pd.read_csv('adult.csv')\n",
        "missing_values = df.isnull().sum()\n",
        "df_clean = df.dropna()"
      ],
      "metadata": {
        "id": "VaezQhEdtAqW"
      },
      "execution_count": null,
      "outputs": []
    },
    {
      "cell_type": "code",
      "source": [
        "numerical_cols = df_clean.select_dtypes(include=['number']).columns\n",
        "Q1 = df_clean[numerical_cols].quantile(0.25)\n",
        "Q3 = df_clean[numerical_cols].quantile(0.75)\n",
        "IQR = Q3 - Q1\n",
        "is_not_outlier = ~((df_clean[numerical_cols] < (Q1 - 1.5 * IQR)) | (df_clean[numerical_cols] > (Q3 + 1.5 * IQR))).any(axis=1)\n",
        "df_filtered = df_clean[is_not_outlier]"
      ],
      "metadata": {
        "id": "jv2ZdEBNz3YT"
      },
      "execution_count": null,
      "outputs": []
    },
    {
      "cell_type": "code",
      "source": [
        "data_encoded = pd.get_dummies(df_filtered, drop_first=True)"
      ],
      "metadata": {
        "id": "dVcnEkmd4-K8"
      },
      "execution_count": null,
      "outputs": []
    },
    {
      "cell_type": "code",
      "source": [
        "data_encoded['income'] = data_encoded['income_>50K']\n",
        "X = data_encoded[['hours-per-week']]\n",
        "y = data_encoded['income']\n",
        "X = sm.add_constant(X)\n",
        "model = sm.Logit(y, X).fit()\n",
        "print(model.summary())\n"
      ],
      "metadata": {
        "colab": {
          "base_uri": "https://localhost:8080/"
        },
        "id": "ksy0XlRE5QSs",
        "outputId": "a030041e-3538-4f60-bd22-646b85d355c1"
      },
      "execution_count": null,
      "outputs": [
        {
          "output_type": "stream",
          "name": "stdout",
          "text": [
            "Optimization terminated successfully.\n",
            "         Current function value: 0.500402\n",
            "         Iterations 6\n",
            "                           Logit Regression Results                           \n",
            "==============================================================================\n",
            "Dep. Variable:                 income   No. Observations:                28558\n",
            "Model:                          Logit   Df Residuals:                    28556\n",
            "Method:                           MLE   Df Model:                            1\n",
            "Date:                Mon, 02 Sep 2024   Pseudo R-squ.:                 0.02828\n",
            "Time:                        13:38:34   Log-Likelihood:                -14290.\n",
            "converged:                       True   LL-Null:                       -14706.\n",
            "Covariance Type:            nonrobust   LLR p-value:                6.288e-183\n",
            "==================================================================================\n",
            "                     coef    std err          z      P>|z|      [0.025      0.975]\n",
            "----------------------------------------------------------------------------------\n",
            "const             -5.5191      0.146    -37.812      0.000      -5.805      -5.233\n",
            "hours-per-week     0.1002      0.003     29.199      0.000       0.093       0.107\n",
            "==================================================================================\n"
          ]
        }
      ]
    },
    {
      "cell_type": "code",
      "source": [
        "correlation_matrix = data_encoded.corr()\n",
        "print(correlation_matrix['income'].sort_values(ascending=False))\n"
      ],
      "metadata": {
        "colab": {
          "base_uri": "https://localhost:8080/"
        },
        "id": "uCHNLV9E5gUL",
        "outputId": "47a90c90-2790-4fe6-8020-11ba5dbe4196"
      },
      "execution_count": null,
      "outputs": [
        {
          "output_type": "stream",
          "name": "stdout",
          "text": [
            "income                               1.000000\n",
            "income_>50K                          1.000000\n",
            "marital-status_Married-civ-spouse    0.439621\n",
            "educational-num                      0.294094\n",
            "age                                  0.242632\n",
            "                                       ...   \n",
            "relationship_Own-child              -0.191547\n",
            "relationship_Not-in-family          -0.208488\n",
            "marital-status_Never-married        -0.300624\n",
            "capital-gain                              NaN\n",
            "capital-loss                              NaN\n",
            "Name: income, Length: 97, dtype: float64\n"
          ]
        }
      ]
    },
    {
      "cell_type": "code",
      "source": [
        "X = data_encoded[['educational-num']]\n",
        "y = data_encoded['income']\n",
        "X = sm.add_constant(X)\n",
        "model = sm.Logit(y, X).fit()\n",
        "print(model.summary())\n"
      ],
      "metadata": {
        "colab": {
          "base_uri": "https://localhost:8080/"
        },
        "id": "AKsae2QV5mpE",
        "outputId": "d0e9aa29-6cfd-48d3-cd5a-78d729f60219"
      },
      "execution_count": null,
      "outputs": [
        {
          "output_type": "stream",
          "name": "stdout",
          "text": [
            "Optimization terminated successfully.\n",
            "         Current function value: 0.471459\n",
            "         Iterations 6\n",
            "                           Logit Regression Results                           \n",
            "==============================================================================\n",
            "Dep. Variable:                 income   No. Observations:                28558\n",
            "Model:                          Logit   Df Residuals:                    28556\n",
            "Method:                           MLE   Df Model:                            1\n",
            "Date:                Mon, 02 Sep 2024   Pseudo R-squ.:                 0.08449\n",
            "Time:                        13:23:09   Log-Likelihood:                -13464.\n",
            "converged:                       True   LL-Null:                       -14706.\n",
            "Covariance Type:            nonrobust   LLR p-value:                     0.000\n",
            "===================================================================================\n",
            "                      coef    std err          z      P>|z|      [0.025      0.975]\n",
            "-----------------------------------------------------------------------------------\n",
            "const              -5.0136      0.082    -61.485      0.000      -5.173      -4.854\n",
            "educational-num     0.3459      0.007     47.728      0.000       0.332       0.360\n",
            "===================================================================================\n"
          ]
        }
      ]
    }
  ],
  "metadata": {
    "colab": {
      "provenance": [],
      "cell_execution_strategy": "setup",
      "include_colab_link": true
    },
    "kernelspec": {
      "display_name": "Python 3",
      "name": "python3"
    },
    "language_info": {
      "name": "python"
    }
  },
  "nbformat": 4,
  "nbformat_minor": 0
}